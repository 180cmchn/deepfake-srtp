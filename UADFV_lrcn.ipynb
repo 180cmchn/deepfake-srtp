{
 "cells": [
  {
   "cell_type": "code",
   "execution_count": 2,
   "metadata": {},
   "outputs": [
    {
     "name": "stdout",
     "output_type": "stream",
     "text": [
      "torch.Size([92, 20, 3, 128, 128])\n",
      "torch.Size([92])\n"
     ]
    }
   ],
   "source": [
    "# 序列数据、标签的加载\n",
    "import os\n",
    "from PIL import Image\n",
    "import torch\n",
    "from torchvision import transforms\n",
    "\n",
    "if torch.cuda.is_available():\n",
    "    device = torch.device('cuda')\n",
    "else:\n",
    "    device = torch.device('cpu')\n",
    "\n",
    "torch.manual_seed(42)\n",
    "\n",
    "# 若需更换face和eye，需改图片size\n",
    "transform = transforms.Compose([\n",
    "    transforms.Resize((128, 128)),\n",
    "    transforms.ToTensor(),\n",
    "    transforms.Normalize(mean=[0.485, 0.456, 0.406], std=[0.229, 0.224, 0.225])\n",
    "])\n",
    "\n",
    "data_dir = './dataset/UADFV/eye'\n",
    "\n",
    "sequences = []\n",
    "labels = []\n",
    "\n",
    "for label, class_name in enumerate(['real', 'fake']):\n",
    "    label_dir = os.path.join(data_dir, class_name)\n",
    "\n",
    "    for sequence_idx in range(49):\n",
    "        if sequence_idx == 5 or sequence_idx == 33 or sequence_idx == 43:\n",
    "            continue\n",
    "\n",
    "        sequence = []\n",
    "        for image_idx in range(20):\n",
    "            image_path = os.path.join(label_dir, f'{sequence_idx}_{image_idx}.png')\n",
    "            image = Image.open(image_path).convert(\"RGB\")\n",
    "            if transform:\n",
    "                image = transform(image)\n",
    "            sequence.append(image)\n",
    "\n",
    "        sequences.append(torch.stack(sequence))\n",
    "        labels.append(label)\n",
    "\n",
    "sequences = torch.stack(sequences)\n",
    "labels = torch.tensor(labels)\n",
    "print(sequences.shape)\n",
    "print(labels.shape)"
   ]
  },
  {
   "cell_type": "code",
   "execution_count": 3,
   "metadata": {},
   "outputs": [
    {
     "name": "stdout",
     "output_type": "stream",
     "text": [
      "[40, 22, 55, 72, 0, 26, 39, 67, 10, 44]\n",
      "Training set length: 73\n",
      "Test set length: 19\n"
     ]
    }
   ],
   "source": [
    "# sequence\n",
    "from torch.utils.data import DataLoader, SubsetRandomSampler, TensorDataset\n",
    "import numpy as np\n",
    "\n",
    "dataset_size = sequences.size(0)\n",
    "indices = list(range(dataset_size))\n",
    "np.random.seed(42)\n",
    "np.random.shuffle(indices)\n",
    "print(indices[:10])\n",
    "\n",
    "sequences = sequences[indices]\n",
    "labels = labels[indices]\n",
    "\n",
    "# split1 = int(np.floor(0.6 * dataset_size))\n",
    "# split2 = int(np.floor(0.8 * dataset_size))\n",
    "# train_indices, val_indices, test_indices = indices[:split1], indices[split1:split2], indices[split2:]\n",
    "\n",
    "split = int(np.floor(0.8 * dataset_size))\n",
    "test_size = dataset_size - split\n",
    "# m = 1\n",
    "# n = 2\n",
    "# indices_left, test_indices, indices_right = indices[:(test_size * m)], indices[(test_size * m):(test_size * n)], indices[(test_size * n):]\n",
    "# indices_left.extend(indices_right)\n",
    "# train_indices = indices_left\n",
    "\n",
    "# train_indices, test_indices = indices[:split], indices[split:]\n",
    "test_indices, train_indices = indices[:test_size], indices[test_size:]\n",
    "\n",
    "dataset = TensorDataset(sequences, labels)\n",
    "\n",
    "train_sampler = SubsetRandomSampler(train_indices)\n",
    "test_sampler = SubsetRandomSampler(test_indices)\n",
    "\n",
    "seq_train_loader = DataLoader(dataset, batch_size=1, sampler=train_sampler)\n",
    "seq_test_loader = DataLoader(dataset, batch_size=1, sampler=test_sampler)\n",
    "\n",
    "print(\"Training set length:\", len(train_indices))\n",
    "print(\"Test set length:\", len(test_indices))"
   ]
  },
  {
   "cell_type": "code",
   "execution_count": 4,
   "metadata": {},
   "outputs": [
    {
     "name": "stdout",
     "output_type": "stream",
     "text": [
      "Training set length: 1460\n",
      "Test set length: 380\n"
     ]
    }
   ],
   "source": [
    "# image\n",
    "extend_labels = []\n",
    "images = []\n",
    "\n",
    "for i in range(sequences.size(0)):\n",
    "    for j in range(20):\n",
    "        images.append(sequences[i][j])\n",
    "        extend_labels.append(labels[i])\n",
    "\n",
    "images = torch.stack(images)\n",
    "img_labels = torch.tensor(extend_labels)\n",
    "\n",
    "img_dataset_size = images.size(0)\n",
    "img_indices = list(range(img_dataset_size))\n",
    "\n",
    "# img_split1 = 10 * split1\n",
    "# img_split2 = 10 * split2\n",
    "# img_train_indices, img_val_indices, img_test_indices = img_indices[:img_split1], img_indices[img_split1:img_split2], img_indices[img_split2:]\n",
    "\n",
    "img_split = 20 * split\n",
    "img_test_size = img_dataset_size - img_split\n",
    "\n",
    "# indices_left, img_test_indices, indices_right = img_indices[:(img_test_size * m)], img_indices[(img_test_size * m):(img_test_size * n)], img_indices[(img_test_size * n):]\n",
    "# indices_left.extend(indices_right)\n",
    "# img_train_indices = indices_left\n",
    "\n",
    "# img_train_indices, img_test_indices = img_indices[:img_split], img_indices[img_split:]\n",
    "img_test_indices, img_train_indices = img_indices[:img_test_size], img_indices[img_test_size:]\n",
    "\n",
    "img_dataset = TensorDataset(images, img_labels)\n",
    "\n",
    "img_train_sampler = SubsetRandomSampler(img_train_indices)\n",
    "img_test_sampler = SubsetRandomSampler(img_test_indices)\n",
    "\n",
    "img_train_loader = DataLoader(img_dataset, batch_size=32, sampler=img_train_sampler)\n",
    "img_test_loader = DataLoader(img_dataset, batch_size=32, sampler=img_test_sampler)\n",
    "\n",
    "print(\"Training set length:\", len(img_train_indices))\n",
    "print(\"Test set length:\", len(img_test_indices))"
   ]
  },
  {
   "cell_type": "code",
   "execution_count": 5,
   "metadata": {},
   "outputs": [
    {
     "name": "stdout",
     "output_type": "stream",
     "text": [
      "Total number of labels: 73\n",
      "Number of positive samples: 36\n",
      "Number of negative samples: 37\n"
     ]
    }
   ],
   "source": [
    "# 检查标签是否正常\n",
    "all_labels = []\n",
    "for data in seq_train_loader:\n",
    "    inputs, label = data\n",
    "    all_labels.extend(label.tolist())\n",
    "all_labels = torch.tensor(all_labels)\n",
    "print(\"Total number of labels:\", len(all_labels))\n",
    "num_positive_samples = (all_labels == 1).sum().item()\n",
    "num_negative_samples = (all_labels == 0).sum().item()\n",
    "print(f\"Number of positive samples: {num_positive_samples}\")\n",
    "print(f\"Number of negative samples: {num_negative_samples}\")"
   ]
  },
  {
   "cell_type": "code",
   "execution_count": 6,
   "metadata": {},
   "outputs": [],
   "source": [
    "from models import CustomVGG\n",
    "\n",
    "img_model = CustomVGG().to(device)"
   ]
  },
  {
   "cell_type": "code",
   "execution_count": 7,
   "metadata": {},
   "outputs": [],
   "source": [
    "# 网络结构\n",
    "from models import LRCN\n",
    "# from models import LRCN\n",
    "\n",
    "seq_model = LRCN(8192, 1024, 1, 2).to(device) # 8192(eye) 25088(face)\n",
    "# seq_model = LRCN().to(device)\n",
    "# print(seq_model)"
   ]
  },
  {
   "cell_type": "code",
   "execution_count": 5,
   "metadata": {},
   "outputs": [
    {
     "name": "stdout",
     "output_type": "stream",
     "text": [
      "Epoch 1, loss: 0.778, accuracy: 76.71 %\n",
      "Epoch 2, loss: 0.108, accuracy: 97.26 %\n",
      "Epoch 3, loss: 0.089, accuracy: 95.89 %\n",
      "Epoch 4, loss: 0.049, accuracy: 95.89 %\n",
      "Epoch 5, loss: 0.015, accuracy: 100.00 %\n",
      "Epoch 6, loss: 0.058, accuracy: 98.63 %\n",
      "Epoch 7, loss: 0.013, accuracy: 100.00 %\n",
      "Epoch 8, loss: 0.009, accuracy: 100.00 %\n",
      "Epoch 9, loss: 0.014, accuracy: 100.00 %\n",
      "Epoch 10, loss: 0.010, accuracy: 100.00 %\n"
     ]
    }
   ],
   "source": [
    "import torch.optim as optim\n",
    "import torch.nn as nn\n",
    "\n",
    "criterion = nn.CrossEntropyLoss()\n",
    "optimizer = optim.Adam(seq_model.parameters(), lr=0.001)\n",
    "# optimizer = optim.SGD(seq_model.parameters(), lr=0.01, momentum=0.9)\n",
    "# torch.nn.utils.clip_grad_norm_(model.parameters(), 1.0)  # 设置 clipnorm\n",
    "# torch.nn.utils.clip_grad_value_(model.parameters(), 0.5)  # 设置 clipvalue\n",
    "\n",
    "num_epochs = 20\n",
    "for epoch in range(num_epochs):\n",
    "    running_loss = 0.0\n",
    "    correct = 0\n",
    "    total = 0\n",
    "    for i, data in enumerate(seq_train_loader, 0):\n",
    "        inputs, label = data\n",
    "        inputs, label = inputs.to(device), label.to(device)\n",
    "\n",
    "        seq_model.train()\n",
    "\n",
    "        optimizer.zero_grad()\n",
    "\n",
    "        # 前向传播\n",
    "        outputs = seq_model(inputs)\n",
    "        loss = criterion(outputs, label)\n",
    "\n",
    "        # 反向传播和优化\n",
    "        loss.backward()\n",
    "        optimizer.step()\n",
    "\n",
    "        running_loss += loss.item()\n",
    "        _, predicted = torch.max(outputs.data, 1)\n",
    "        total += label.size(0)\n",
    "        correct += (predicted == label).sum().item()\n",
    "    \n",
    "    loss = running_loss / len(seq_train_loader)\n",
    "    accuracy = 100 * correct / total\n",
    "    print('Epoch %d, loss: %.3f, accuracy: %.2f %%' % (epoch + 1, loss, accuracy))\n",
    "    \n",
    "    # 在每个 epoch 结束后进行模型评估\n",
    "    # seq_model.eval()  # 将模型设置为评估模式，关闭 Dropout 和 BatchNormalization\n",
    "    # val_correct = 0\n",
    "    # val_total = 0\n",
    "    # val_running_loss = 0.0\n",
    "    # all_labels = []\n",
    "    # all_predictions = []\n",
    "    # with torch.no_grad():  # 在验证阶段不需要计算梯度\n",
    "    #     for val_data in seq_val_loader:\n",
    "    #         val_inputs, val_labels = val_data\n",
    "    #         val_inputs, val_labels = val_inputs.to(device), val_labels.to(device)\n",
    "\n",
    "    #         val_outputs = seq_model(val_inputs)\n",
    "    #         val_loss = criterion(val_outputs, val_labels)\n",
    "    #         # val_loss = F.cross_entropy(val_outputs, val_labels)\n",
    "    #         val_running_loss += val_loss.item()\n",
    "\n",
    "    #         _, val_predicted = torch.max(val_outputs.data, 1)\n",
    "    #         val_total += val_labels.size(0)\n",
    "    #         val_correct += (val_predicted == val_labels).sum().item()\n",
    "\n",
    "    # val_accuracy = 100 * val_correct / val_total\n",
    "    # avg_val_loss = val_running_loss / len(seq_val_loader)\n",
    "\n",
    "    # print('Epoch %d, loss: %.3f, accuracy: %.2f %%. Validation, loss: %.3f, accuracy: %.2f %%' %\n",
    "    #     (epoch + 1, loss, accuracy, avg_val_loss, val_accuracy))\n",
    "    \n",
    "    # if epoch == 0:\n",
    "    #     best_val_accuracy = val_accuracy\n",
    "    # # 保存最佳模型\n",
    "    # if val_accuracy >= best_val_accuracy:\n",
    "    #     best_val_accuracy = val_accuracy\n",
    "    #     best_model_weights = model.state_dict()"
   ]
  },
  {
   "cell_type": "code",
   "execution_count": 6,
   "metadata": {},
   "outputs": [],
   "source": [
    "# torch.save(seq_model, './model/UADFV/new/lrcn_eye_model_5.pth')"
   ]
  },
  {
   "cell_type": "code",
   "execution_count": 8,
   "metadata": {},
   "outputs": [
    {
     "name": "stdout",
     "output_type": "stream",
     "text": [
      "Test Accuracy: 92.63 %, AUC: 0.9736\n"
     ]
    }
   ],
   "source": [
    "# CNN测试\n",
    "from sklearn.metrics import roc_auc_score\n",
    "img_model = torch.load('./model/UADFV/cnn_eye_model_2.pth')\n",
    "correct = 0\n",
    "total = 0\n",
    "cnn_labels = []\n",
    "cnn_predictions = []\n",
    "\n",
    "with torch.no_grad():\n",
    "    img_model.eval()\n",
    "    for inputs, label in img_test_loader:\n",
    "        inputs, label = inputs.to(device), label.to(device)\n",
    "        outputs = img_model(inputs)\n",
    "        \n",
    "        _, predicted = torch.max(outputs, 1)\n",
    "        total += label.size(0)\n",
    "        correct += (predicted == label).sum().item()\n",
    "\n",
    "        predictions = torch.sigmoid(outputs[:, 1])\n",
    "        cnn_labels.extend(label.cpu().numpy())\n",
    "        cnn_predictions.extend(predictions.cpu().detach().numpy())\n",
    "\n",
    "cnn_test_accuracy = 100 * correct / total\n",
    "auc = roc_auc_score(cnn_labels, cnn_predictions)\n",
    "print(\"Test Accuracy: %.2f %%, AUC: %.4f\" % (cnn_test_accuracy, auc))"
   ]
  },
  {
   "cell_type": "code",
   "execution_count": 9,
   "metadata": {},
   "outputs": [
    {
     "name": "stdout",
     "output_type": "stream",
     "text": [
      "Test Accuracy: 89.47 %, AUC: 1.0000\n"
     ]
    }
   ],
   "source": [
    "# LRCN测试\n",
    "from sklearn.metrics import roc_auc_score\n",
    "seq_model = torch.load('./model/UADFV/lrcn_eye_model_2_new.pth')\n",
    "correct = 0\n",
    "total = 0\n",
    "lrcn_labels = []\n",
    "lrcn_predictions = []\n",
    "with torch.no_grad():\n",
    "    seq_model.eval()\n",
    "    for inputs, label in seq_test_loader:\n",
    "        inputs, label = inputs.to(device), label.to(device)\n",
    "        outputs = seq_model(inputs)\n",
    "\n",
    "        _, predicted = torch.max(outputs, 1)\n",
    "        total += label.size(0)\n",
    "        correct += (predicted == label).sum().item()\n",
    "\n",
    "        predictions = torch.sigmoid(outputs[:, 1])\n",
    "        lrcn_labels.extend(label.cpu().numpy())\n",
    "        lrcn_predictions.extend(predictions.cpu().detach().numpy())\n",
    "\n",
    "lrcn_test_accuracy = 100 * correct / total\n",
    "auc = roc_auc_score(lrcn_labels, lrcn_predictions)\n",
    "print(\"Test Accuracy: %.2f %%, AUC: %.4f\" % (lrcn_test_accuracy, auc))"
   ]
  },
  {
   "cell_type": "code",
   "execution_count": 10,
   "metadata": {},
   "outputs": [
    {
     "name": "stdout",
     "output_type": "stream",
     "text": [
      "Test Accuracy: 99.47 %, AUC: 1.0000\n"
     ]
    }
   ],
   "source": [
    "# Two stream(average)\n",
    "# img_model = torch.load('./model/UADFV/cnn_eye_model_2.pth')\n",
    "correct = 0\n",
    "two_avg_labels = []\n",
    "two_avg_predictions = []\n",
    "with torch.no_grad():\n",
    "    seq_model.eval()\n",
    "    img_model.eval()\n",
    "    for data in seq_test_loader:\n",
    "        input, label = data\n",
    "        input, label = input.to(device), label.to(device)\n",
    "        img_output = []\n",
    "        seq_output = seq_model(input)\n",
    "        for t in range(20):\n",
    "            img_output = img_model(input[:, t, :, :, :])\n",
    "\n",
    "            img_output += seq_output\n",
    "\n",
    "            _, predicted = torch.max(img_output, 1)\n",
    "            correct += (predicted == label).sum().item()\n",
    "\n",
    "            predictions = torch.sigmoid(img_output[:, 1])\n",
    "            two_avg_labels.extend(label.cpu().numpy())\n",
    "            two_avg_predictions.extend(predictions.cpu().detach().numpy())\n",
    "\n",
    "total = 20 * len(seq_test_loader)\n",
    "two_avg_test_accuracy = 100 * correct / total\n",
    "auc = roc_auc_score(two_avg_labels, two_avg_predictions)\n",
    "print(\"Test Accuracy: %.2f %%, AUC: %.4f\" % (two_avg_test_accuracy, auc))"
   ]
  },
  {
   "cell_type": "code",
   "execution_count": 10,
   "metadata": {},
   "outputs": [
    {
     "name": "stdout",
     "output_type": "stream",
     "text": [
      "1460\n"
     ]
    }
   ],
   "source": [
    "# Two stream(SVM)\n",
    "# img_model = torch.load('./model/DeepfakeTIMIT/HQ/cnn_eye_model_5.pth')\n",
    "img_train_output = []\n",
    "img_train_label = []\n",
    "\n",
    "with torch.no_grad():\n",
    "    seq_model.eval()\n",
    "    img_model.eval()\n",
    "    for data in seq_train_loader:\n",
    "        input, label = data\n",
    "        input, label = input.to(device), label.to(device)\n",
    "        output = []\n",
    "        seq_output = seq_model(input)\n",
    "        for t in range(20):\n",
    "            output = img_model(input[:, t, :, :, :])\n",
    "\n",
    "            output += seq_output\n",
    "            \n",
    "            # output = torch.cat((output, seq_output), dim=1)\n",
    "            # output = torch.sigmoid(output)\n",
    "            img_train_output.append(output)\n",
    "            img_train_label.append(label)\n",
    "print(len(img_train_output))"
   ]
  },
  {
   "cell_type": "code",
   "execution_count": 28,
   "metadata": {},
   "outputs": [
    {
     "name": "stdout",
     "output_type": "stream",
     "text": [
      "Accuracy of SVM classifier on train dataset: 1.0000\n"
     ]
    }
   ],
   "source": [
    "from sklearn import svm\n",
    "from sklearn.metrics import accuracy_score\n",
    "from sklearn.calibration import CalibratedClassifierCV\n",
    "\n",
    "img_train_output_tensor = torch.stack(img_train_output)\n",
    "img_train_label_tensor = torch.cat(img_train_label)\n",
    "\n",
    "img_train_output_flattened = img_train_output_tensor.view(img_train_output_tensor.size(0), -1).cpu().numpy()\n",
    "img_train_label_flattened = img_train_label_tensor.cpu().numpy()\n",
    "\n",
    "# svm_classifier = svm.SVC(kernel='linear', probability=True)\n",
    "\n",
    "# # 使用径向基函数核（RBF kernel）并设置惩罚参数C和gamma\n",
    "# svm_classifier = svm.SVC(kernel='rbf', C=0.1, gamma='scale', probability=True) # 0.1\n",
    "\n",
    "# 使用多项式核函数并设置阶数和惩罚参数C\n",
    "# svm_classifier = svm.SVC(kernel='poly', degree=3, C=0.1, probability=True)\n",
    "\n",
    "# 使用Sigmoid核函数并设置coef0和惩罚参数C\n",
    "svm_classifier = svm.SVC(kernel='sigmoid', coef0=0.0, C=0.1, probability=True) # 0.2\n",
    "\n",
    "calibrated_svm = CalibratedClassifierCV(svm_classifier)\n",
    "\n",
    "calibrated_svm.fit(img_train_output_flattened, img_train_label_flattened)\n",
    "\n",
    "y_train_pred = calibrated_svm.predict(img_train_output_flattened)\n",
    "\n",
    "accuracy = accuracy_score(img_train_label_flattened, y_train_pred)\n",
    "print(f\"Accuracy of SVM classifier on train dataset: {accuracy:.4f}\")"
   ]
  },
  {
   "cell_type": "code",
   "execution_count": 29,
   "metadata": {},
   "outputs": [
    {
     "data": {
      "text/plain": [
       "['./model/UADFV/svm/fusion_eye_2_s.pkl']"
      ]
     },
     "execution_count": 29,
     "metadata": {},
     "output_type": "execute_result"
    }
   ],
   "source": [
    "import joblib\n",
    "# 保存训练好的 SVM 模型到文件\n",
    "model_filename = './model/UADFV/svm/fusion_eye_2_s.pkl'\n",
    "joblib.dump(calibrated_svm, model_filename)"
   ]
  },
  {
   "cell_type": "code",
   "execution_count": 11,
   "metadata": {},
   "outputs": [
    {
     "name": "stdout",
     "output_type": "stream",
     "text": [
      "380\n"
     ]
    }
   ],
   "source": [
    "test_output = []\n",
    "test_label = []\n",
    "\n",
    "with torch.no_grad():\n",
    "    seq_model.eval()\n",
    "    img_model.eval()\n",
    "    for data in seq_test_loader:\n",
    "        input, label = data\n",
    "        input, label = input.to(device), label.to(device)\n",
    "        output = []\n",
    "        seq_output = seq_model(input)\n",
    "        for t in range(20):\n",
    "            output = img_model(input[:, t, :, :, :])\n",
    "\n",
    "            output += seq_output\n",
    "            \n",
    "            # output = torch.cat((output, seq_output), dim=1)\n",
    "            # output = torch.sigmoid(output)\n",
    "            test_output.append(output)\n",
    "            test_label.append(label)\n",
    "print(len(test_output))"
   ]
  },
  {
   "cell_type": "code",
   "execution_count": 12,
   "metadata": {},
   "outputs": [
    {
     "name": "stdout",
     "output_type": "stream",
     "text": [
      "Accuracy of SVM classifier on test dataset: 0.9974\n"
     ]
    }
   ],
   "source": [
    "# 加载保存的 SVM 模型\n",
    "import joblib\n",
    "from sklearn.metrics import accuracy_score\n",
    "model_filename = './model/UADFV/svm/fusion_eye_2_s.pkl'\n",
    "loaded_model = joblib.load(model_filename)\n",
    "\n",
    "img_output_tensor = torch.stack(test_output)\n",
    "img_label_tensor = torch.cat(test_label)\n",
    "\n",
    "img_output_flattened = img_output_tensor.view(img_output_tensor.size(0), -1).cpu().numpy()\n",
    "img_label_flattened = img_label_tensor.cpu().numpy()\n",
    "\n",
    "y_pred = loaded_model.predict(img_output_flattened)\n",
    "prob_scores = loaded_model.predict_proba(img_output_flattened)\n",
    "\n",
    "accuracy = accuracy_score(img_label_flattened, y_pred)\n",
    "print(f\"Accuracy of SVM classifier on test dataset: {accuracy:.4f}\")"
   ]
  },
  {
   "cell_type": "code",
   "execution_count": 15,
   "metadata": {},
   "outputs": [
    {
     "data": {
      "image/png": "[encoded data removed]",
      "text/plain": [
       "<Figure size 640x480 with 1 Axes>"
      ]
     },
     "metadata": {},
     "output_type": "display_data"
    }
   ],
   "source": [
    "from sklearn.metrics import roc_curve, auc\n",
    "import matplotlib.pyplot as plt\n",
    "\n",
    "cnn_fpr, cnn_tpr, cnn_thresholds = roc_curve(cnn_labels, cnn_predictions)\n",
    "# lrcn_fpr, lrcn_tpr, lrcn_thresholds = roc_curve(lrcn_labels, lrcn_predictions)\n",
    "# seq_fpr, seq_tpr, seq_thresholds = roc_curve(seq_labels, seq_predictions)\n",
    "two_avg_fpr, two_avg_tpr, two_avg_thresholds = roc_curve(two_avg_labels, two_avg_predictions)\n",
    "svm_fpr, svm_tpr, svm_thresholds = roc_curve(img_label_flattened, prob_scores[:, 1])\n",
    "\n",
    "# 计算AUC值\n",
    "cnn_roc_auc = auc(cnn_fpr, cnn_tpr)\n",
    "# lrcn_roc_auc = auc(lrcn_fpr, lrcn_tpr)\n",
    "# seq_roc_auc = auc(seq_fpr, seq_tpr)\n",
    "two_avg_roc_auc = auc(two_avg_fpr, two_avg_tpr)\n",
    "svm_roc_auc = auc(svm_fpr, svm_tpr)\n",
    "\n",
    "# 绘制ROC曲线\n",
    "plt.figure()\n",
    "plt.plot(cnn_fpr, cnn_tpr, color='green', lw=2, label='CNN  (AUC = %0.1f)' % (100 * cnn_roc_auc))\n",
    "# plt.plot(lrcn_fpr, lrcn_tpr, color='darkorange', lw=2, label='LRCN (AUC = %0.1f)' % (100 * lrcn_roc_auc))# darkorange\n",
    "# plt.plot(seq_fpr, seq_tpr, color='red', lw=2, label='Two stream(avg) (AUC = %0.1f)' % (100 * seq_roc_auc))\n",
    "plt.plot(two_avg_fpr, two_avg_tpr, color='red', lw=2, label='Two stream(avg)  (AUC = %0.1f)' % (100 * two_avg_roc_auc))\n",
    "plt.plot(svm_fpr, svm_tpr, color='blue', lw=2, label='Two stream(SVM) (AUC = %0.1f)' % (100 * svm_roc_auc))\n",
    "plt.plot([0, 1], [0, 1], color='navy', lw=2, linestyle='--')\n",
    "plt.xlim([0.0, 1.0])\n",
    "plt.ylim([0.0, 1.05])\n",
    "plt.xlabel('False Positive Rate')\n",
    "plt.ylabel('True Positive Rate')\n",
    "plt.title('Receiver Operating Characteristic (ROC) Curve')\n",
    "plt.legend(loc=\"lower right\")\n",
    "plt.show()"
   ]
  },
  {
   "cell_type": "code",
   "execution_count": 3,
   "metadata": {},
   "outputs": [
    {
     "name": "stdout",
     "output_type": "stream",
     "text": [
      "99.78999999999999\n"
     ]
    }
   ],
   "source": [
    "# data = [100, 92.63, 91.32, 96.32, 94.74]\n",
    "# data = [99.47, 100, 100, 100, 100]\n",
    "# data = [63.16, 57.89, 52.63, 57.89, 52.63]\n",
    "# data = [91.05, 93.16, 89.74, 94.74, 95]\n",
    "data = [99.21, 99.74, 100, 100, 100]\n",
    "\n",
    "total = 0\n",
    "for i in range(len(data)):\n",
    "    total += data[i]\n",
    "\n",
    "average = total / 5\n",
    "print(average)"
   ]
  }
 ],
 "metadata": {
  "kernelspec": {
   "display_name": "base",
   "language": "python",
   "name": "python3"
  },
  "language_info": {
   "codemirror_mode": {
    "name": "ipython",
    "version": 3
   },
   "file_extension": ".py",
   "mimetype": "text/x-python",
   "name": "python",
   "nbconvert_exporter": "python",
   "pygments_lexer": "ipython3",
   "version": "3.11.5"
  }
 },
 "nbformat": 4,
 "nbformat_minor": 2
}
