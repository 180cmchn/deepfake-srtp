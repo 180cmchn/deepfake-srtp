{
 "cells": [
  {
   "cell_type": "code",
   "execution_count": 1,
   "metadata": {},
   "outputs": [
    {
     "name": "stdout",
     "output_type": "stream",
     "text": [
      "torch.Size([92, 20, 3, 128, 128])\n",
      "torch.Size([92])\n"
     ]
    }
   ],
   "source": [
    "# 序列数据、标签的加载\n",
    "import os\n",
    "from PIL import Image\n",
    "import torch\n",
    "from torchvision import transforms\n",
    "\n",
    "if torch.cuda.is_available():\n",
    "    device = torch.device('cuda')\n",
    "else:\n",
    "    device = torch.device('cpu')\n",
    "\n",
    "torch.manual_seed(42)\n",
    "\n",
    "# 若需更换face和eye，需改图片size\n",
    "transform = transforms.Compose([\n",
    "    transforms.Resize((128, 128)),\n",
    "    transforms.ToTensor(),\n",
    "    transforms.Normalize(mean=[0.485, 0.456, 0.406], std=[0.229, 0.224, 0.225])\n",
    "])\n",
    "\n",
    "data_dir = './dataset/UADFV/eye'\n",
    "\n",
    "sequences = []\n",
    "labels = []\n",
    "\n",
    "for label, class_name in enumerate(['real', 'fake']):\n",
    "    label_dir = os.path.join(data_dir, class_name)\n",
    "\n",
    "    for sequence_idx in range(49):\n",
    "        if sequence_idx == 5 or sequence_idx == 33 or sequence_idx == 43:\n",
    "            continue\n",
    "\n",
    "        sequence = []\n",
    "        for image_idx in range(20):\n",
    "            image_path = os.path.join(label_dir, f'{sequence_idx}_{image_idx}.png')\n",
    "            image = Image.open(image_path).convert(\"RGB\")\n",
    "            if transform:\n",
    "                image = transform(image)\n",
    "            sequence.append(image)\n",
    "\n",
    "        sequences.append(torch.stack(sequence))\n",
    "        labels.append(label)\n",
    "\n",
    "sequences = torch.stack(sequences)\n",
    "labels = torch.tensor(labels)\n",
    "print(sequences.shape)\n",
    "print(labels.shape)"
   ]
  },
  {
   "cell_type": "code",
   "execution_count": 2,
   "metadata": {},
   "outputs": [
    {
     "name": "stdout",
     "output_type": "stream",
     "text": [
      "[40, 22, 55, 72, 0, 26, 39, 67, 10, 44]\n",
      "Training set length: 73\n",
      "Test set length: 19\n"
     ]
    }
   ],
   "source": [
    "# sequence\n",
    "from torch.utils.data import DataLoader, SubsetRandomSampler, TensorDataset\n",
    "import numpy as np\n",
    "\n",
    "dataset_size = sequences.size(0)\n",
    "indices = list(range(dataset_size))\n",
    "np.random.seed(42) # change\n",
    "np.random.shuffle(indices)\n",
    "print(indices[:10])\n",
    "\n",
    "sequences = sequences[indices]\n",
    "labels = labels[indices]\n",
    "\n",
    "# split1 = int(np.floor(0.6 * dataset_size))\n",
    "# split2 = int(np.floor(0.8 * dataset_size))\n",
    "# train_indices, val_indices, test_indices = indices[:split1], indices[split1:split2], indices[split2:]\n",
    "\n",
    "split = int(np.floor(0.8 * dataset_size))\n",
    "test_size = dataset_size - split\n",
    "# m = 3\n",
    "# n = 4\n",
    "# indices_left, test_indices, indices_right = indices[:(test_size * m)], indices[(test_size * m):(test_size * n)], indices[(test_size * n):]\n",
    "# indices_left.extend(indices_right)\n",
    "# train_indices = indices_left\n",
    "\n",
    "# train_indices, test_indices = indices[:split], indices[split:]\n",
    "test_indices, train_indices = indices[:test_size], indices[test_size:]\n",
    "\n",
    "dataset = TensorDataset(sequences, labels)\n",
    "\n",
    "train_sampler = SubsetRandomSampler(train_indices)\n",
    "test_sampler = SubsetRandomSampler(test_indices)\n",
    "\n",
    "seq_train_loader = DataLoader(dataset, batch_size=1, sampler=train_sampler)\n",
    "seq_test_loader = DataLoader(dataset, batch_size=1, sampler=test_sampler)\n",
    "\n",
    "print(\"Training set length:\", len(train_indices))\n",
    "print(\"Test set length:\", len(test_indices))"
   ]
  },
  {
   "cell_type": "code",
   "execution_count": 3,
   "metadata": {},
   "outputs": [
    {
     "name": "stdout",
     "output_type": "stream",
     "text": [
      "Total number of labels: 73\n",
      "Number of positive samples: 36\n",
      "Number of negative samples: 37\n"
     ]
    }
   ],
   "source": [
    "# 检查标签是否正常\n",
    "all_labels = []\n",
    "for data in seq_train_loader:\n",
    "    inputs, label = data\n",
    "    all_labels.extend(label.tolist())\n",
    "all_labels = torch.tensor(all_labels)\n",
    "print(\"Total number of labels:\", len(all_labels))\n",
    "num_positive_samples = (all_labels == 1).sum().item()\n",
    "num_negative_samples = (all_labels == 0).sum().item()\n",
    "print(f\"Number of positive samples: {num_positive_samples}\")\n",
    "print(f\"Number of negative samples: {num_negative_samples}\")"
   ]
  },
  {
   "cell_type": "code",
   "execution_count": 4,
   "metadata": {},
   "outputs": [
    {
     "name": "stdout",
     "output_type": "stream",
     "text": [
      "Training set length: 1460\n",
      "Test set length: 380\n"
     ]
    }
   ],
   "source": [
    "# image\n",
    "extend_labels = []\n",
    "images = []\n",
    "\n",
    "for i in range(sequences.size(0)):\n",
    "    for j in range(20):\n",
    "        images.append(sequences[i][j])\n",
    "        extend_labels.append(labels[i])\n",
    "\n",
    "images = torch.stack(images)\n",
    "img_labels = torch.tensor(extend_labels)\n",
    "\n",
    "img_dataset_size = images.size(0)\n",
    "img_indices = list(range(img_dataset_size))\n",
    "\n",
    "# img_split1 = 10 * split1\n",
    "# img_split2 = 10 * split2\n",
    "# img_train_indices, img_val_indices, img_test_indices = img_indices[:img_split1], img_indices[img_split1:img_split2], img_indices[img_split2:]\n",
    "\n",
    "img_split = 20 * split\n",
    "img_test_size = img_dataset_size - img_split\n",
    "\n",
    "# indices_left, img_test_indices, indices_right = img_indices[:(img_test_size * m)], img_indices[(img_test_size * m):(img_test_size * n)], img_indices[(img_test_size * n):]\n",
    "# indices_left.extend(indices_right)\n",
    "# img_train_indices = indices_left\n",
    "\n",
    "# img_train_indices, img_test_indices = img_indices[:img_split], img_indices[img_split:]\n",
    "img_test_indices, img_train_indices = img_indices[:img_test_size], img_indices[img_test_size:]\n",
    "\n",
    "img_dataset = TensorDataset(images, img_labels)\n",
    "\n",
    "img_train_sampler = SubsetRandomSampler(img_train_indices)\n",
    "img_test_sampler = SubsetRandomSampler(img_test_indices)\n",
    "\n",
    "img_train_loader = DataLoader(img_dataset, batch_size=32, sampler=img_train_sampler)\n",
    "img_test_loader = DataLoader(img_dataset, batch_size=32, sampler=img_test_sampler)\n",
    "\n",
    "print(\"Training set length:\", len(img_train_indices))\n",
    "print(\"Test set length:\", len(img_test_indices))"
   ]
  },
  {
   "cell_type": "code",
   "execution_count": 5,
   "metadata": {},
   "outputs": [
    {
     "name": "stdout",
     "output_type": "stream",
     "text": [
      "CustomVGG(\n",
      "  (img_model): VGG(\n",
      "    (features): Sequential(\n",
      "      (0): Conv2d(3, 64, kernel_size=(3, 3), stride=(1, 1), padding=(1, 1))\n",
      "      (1): ReLU(inplace=True)\n",
      "      (2): Conv2d(64, 64, kernel_size=(3, 3), stride=(1, 1), padding=(1, 1))\n",
      "      (3): ReLU(inplace=True)\n",
      "      (4): MaxPool2d(kernel_size=2, stride=2, padding=0, dilation=1, ceil_mode=False)\n",
      "      (5): Conv2d(64, 128, kernel_size=(3, 3), stride=(1, 1), padding=(1, 1))\n",
      "      (6): ReLU(inplace=True)\n",
      "      (7): Conv2d(128, 128, kernel_size=(3, 3), stride=(1, 1), padding=(1, 1))\n",
      "      (8): ReLU(inplace=True)\n",
      "      (9): MaxPool2d(kernel_size=2, stride=2, padding=0, dilation=1, ceil_mode=False)\n",
      "      (10): Conv2d(128, 256, kernel_size=(3, 3), stride=(1, 1), padding=(1, 1))\n",
      "      (11): ReLU(inplace=True)\n",
      "      (12): Conv2d(256, 256, kernel_size=(3, 3), stride=(1, 1), padding=(1, 1))\n",
      "      (13): ReLU(inplace=True)\n",
      "      (14): Conv2d(256, 256, kernel_size=(3, 3), stride=(1, 1), padding=(1, 1))\n",
      "      (15): ReLU(inplace=True)\n",
      "      (16): MaxPool2d(kernel_size=2, stride=2, padding=0, dilation=1, ceil_mode=False)\n",
      "      (17): Conv2d(256, 512, kernel_size=(3, 3), stride=(1, 1), padding=(1, 1))\n",
      "      (18): ReLU(inplace=True)\n",
      "      (19): Conv2d(512, 512, kernel_size=(3, 3), stride=(1, 1), padding=(1, 1))\n",
      "      (20): ReLU(inplace=True)\n",
      "      (21): Conv2d(512, 512, kernel_size=(3, 3), stride=(1, 1), padding=(1, 1))\n",
      "      (22): ReLU(inplace=True)\n",
      "      (23): MaxPool2d(kernel_size=2, stride=2, padding=0, dilation=1, ceil_mode=False)\n",
      "      (24): Conv2d(512, 512, kernel_size=(3, 3), stride=(1, 1), padding=(1, 1))\n",
      "      (25): ReLU(inplace=True)\n",
      "      (26): Conv2d(512, 512, kernel_size=(3, 3), stride=(1, 1), padding=(1, 1))\n",
      "      (27): ReLU(inplace=True)\n",
      "      (28): Conv2d(512, 512, kernel_size=(3, 3), stride=(1, 1), padding=(1, 1))\n",
      "      (29): ReLU(inplace=True)\n",
      "      (30): MaxPool2d(kernel_size=2, stride=2, padding=0, dilation=1, ceil_mode=False)\n",
      "    )\n",
      "    (avgpool): AdaptiveAvgPool2d(output_size=(7, 7))\n",
      "    (classifier): Sequential(\n",
      "      (0): Linear(in_features=25088, out_features=512, bias=True)\n",
      "      (1): ReLU()\n",
      "      (2): Dropout(p=0.5, inplace=False)\n",
      "      (3): BatchNorm1d(512, eps=1e-05, momentum=0.1, affine=True, track_running_stats=True)\n",
      "      (4): Linear(in_features=512, out_features=2, bias=True)\n",
      "    )\n",
      "  )\n",
      ")\n"
     ]
    }
   ],
   "source": [
    "from models import CustomVGG\n",
    "\n",
    "img_model = CustomVGG().to(device)\n",
    "print(img_model)"
   ]
  },
  {
   "cell_type": "code",
   "execution_count": 7,
   "metadata": {},
   "outputs": [
    {
     "name": "stdout",
     "output_type": "stream",
     "text": [
      "Epoch 1, loss: 0.021, accuracy: 99.32 %\n",
      "Epoch 2, loss: 0.018, accuracy: 99.52 %\n"
     ]
    }
   ],
   "source": [
    "import torch.nn as nn\n",
    "import torch.optim as optim\n",
    "\n",
    "\n",
    "criterion = nn.CrossEntropyLoss()\n",
    "optimizer = optim.Adam(img_model.parameters(), lr=0.001)\n",
    "# optimizer = optim.SGD(img_model.parameters(), lr=0.01, momentum=0.9)\n",
    "# torch.nn.utils.clip_grad_norm_(model.parameters(), 1.0)  # 设置 clipnorm\n",
    "# torch.nn.utils.clip_grad_value_(model.parameters(), 0.5)  # 设置 clipvalue\n",
    "\n",
    "# best_val_loss = float('inf')\n",
    "# patience = 10\n",
    "# counter = 0\n",
    "\n",
    "# 训练\n",
    "num_epochs = 2\n",
    "for epoch in range(num_epochs):\n",
    "    running_loss = 0.0\n",
    "    correct = 0\n",
    "    total = 0\n",
    "    for inputs, labels in img_train_loader:\n",
    "        inputs, labels = inputs.to(device), labels.to(device)\n",
    "\n",
    "        img_model.train()\n",
    "\n",
    "        optimizer.zero_grad()\n",
    "\n",
    "        # 前向传播\n",
    "        outputs = img_model(inputs)\n",
    "        loss = criterion(outputs, labels)\n",
    "\n",
    "        # 反向传播和优化\n",
    "        loss.backward()\n",
    "        optimizer.step()\n",
    "\n",
    "        running_loss += loss.item()\n",
    "        _, predicted = torch.max(outputs.data, 1)\n",
    "        total += labels.size(0)\n",
    "        correct += (predicted == labels).sum().item()\n",
    "    \n",
    "    loss = running_loss / len(img_train_loader)\n",
    "    accuracy = 100 * correct / total\n",
    "    print('Epoch %d, loss: %.3f, accuracy: %.2f %%' % (epoch + 1, loss, accuracy))\n",
    "    \n",
    "    # 模型评估\n",
    "    # img_model.eval()  # 将模型设置为评估模式，关闭 Dropout 和 BatchNormalization\n",
    "    # val_correct = 0\n",
    "    # val_total = 0\n",
    "    # val_running_loss = 0.0\n",
    "    # all_labels = []\n",
    "    # all_predictions = []\n",
    "    # with torch.no_grad():  # 在验证阶段不需要计算梯度\n",
    "    #     for val_data in img_val_loader:\n",
    "    #         val_inputs, val_labels = val_data\n",
    "    #         val_inputs, val_labels = val_inputs.to(device), val_labels.to(device)\n",
    "\n",
    "    #         val_outputs = img_model(val_inputs)\n",
    "    #         val_loss = criterion(val_outputs, val_labels)\n",
    "    #         val_running_loss += val_loss.item()\n",
    "\n",
    "    #         _, val_predicted = torch.max(val_outputs.data, 1)\n",
    "    #         val_total += val_labels.size(0)\n",
    "    #         val_correct += (val_predicted == val_labels).sum().item()\n",
    "\n",
    "    # # 计算验证集上的准确率\n",
    "    # val_accuracy = 100 * val_correct / val_total\n",
    "    # avg_val_loss = val_running_loss / len(img_val_loader)\n",
    "\n",
    "    # print('Epoch %d, loss: %.3f, accuracy: %.2f %%. Validation, loss: %.3f, accuracy: %.2f %%' %\n",
    "    #     (epoch + 1, loss, accuracy, avg_val_loss, val_accuracy))\n",
    "    \n",
    "    # if epoch == 0:\n",
    "    #     best_val_accuracy = val_accuracy\n",
    "    # # 保存最佳模型\n",
    "    # if val_accuracy >= best_val_accuracy:\n",
    "    #     best_val_accuracy = val_accuracy\n",
    "    #     best_model_weights = model.state_dict()\n",
    "\n",
    "    # if avg_val_loss < best_val_loss:\n",
    "    #     best_val_loss = avg_val_loss\n",
    "    #     counter = 0\n",
    "    # else:\n",
    "    #     counter += 1\n",
    "    #     if counter >= patience:\n",
    "    #         print(\"Early stopping\")\n",
    "    #         break"
   ]
  },
  {
   "cell_type": "code",
   "execution_count": 33,
   "metadata": {},
   "outputs": [],
   "source": [
    "torch.save(img_model, './model/UADFV/cnn_face_model_5.pth')"
   ]
  },
  {
   "cell_type": "code",
   "execution_count": 6,
   "metadata": {},
   "outputs": [
    {
     "name": "stdout",
     "output_type": "stream",
     "text": [
      "Test Accuracy: 94.74 %\n"
     ]
    }
   ],
   "source": [
    "img_model = torch.load('./model/UADFV/cnn_eye_model_5.pth')\n",
    "correct = 0\n",
    "total = 0\n",
    "with torch.no_grad():\n",
    "    img_model.eval()\n",
    "    for inputs, label in img_test_loader:\n",
    "        inputs, label = inputs.to(device), label.to(device)\n",
    "        outputs = img_model(inputs)\n",
    "        \n",
    "        _, predicted = torch.max(outputs, 1)\n",
    "        total += label.size(0)\n",
    "        correct += (predicted == label).sum().item()\n",
    "\n",
    "test_accuracy = 100 * correct / total\n",
    "print(\"Test Accuracy: %.2f %%\" % test_accuracy)"
   ]
  },
  {
   "cell_type": "code",
   "execution_count": 7,
   "metadata": {},
   "outputs": [
    {
     "name": "stdout",
     "output_type": "stream",
     "text": [
      "380\n",
      "Test Accuracy: 100.00 %\n"
     ]
    }
   ],
   "source": [
    "# 序列对图片的提升（序列整体平均）\n",
    "correct = 0\n",
    "\n",
    "with torch.no_grad():\n",
    "    img_model.eval()\n",
    "    for data in seq_test_loader:\n",
    "        input, label = data\n",
    "        input, label = input.to(device), label.to(device)\n",
    "        img_output = []\n",
    "        output = []\n",
    "\n",
    "        for t in range(20):\n",
    "            img_output.append(img_model(input[:, t, :, :, :]))\n",
    "        img_output = torch.stack(img_output)\n",
    "        img_output = torch.squeeze(img_output, dim=1)\n",
    "        mean_img_output = torch.mean(img_output, dim=0, keepdim=True)\n",
    "\n",
    "        for t in range(20):\n",
    "            output = img_model(input[:, t, :, :, :])\n",
    "            output += mean_img_output\n",
    "\n",
    "            _, predicted = torch.max(output, 1)\n",
    "            correct += (predicted == label).sum().item()\n",
    "\n",
    "total = 20 * len(seq_test_loader)\n",
    "print(total)\n",
    "test_accuracy = 100 * correct / total\n",
    "print(\"Test Accuracy: %.2f %%\" % test_accuracy)"
   ]
  },
  {
   "cell_type": "code",
   "execution_count": 9,
   "metadata": {},
   "outputs": [
    {
     "name": "stdout",
     "output_type": "stream",
     "text": [
      "1460\n"
     ]
    }
   ],
   "source": [
    "# SVM：序列对图片的提升（伪）\n",
    "# img_model = torch.load('./model/DeepfakeTIMIT/HQ/cnn_eye_model_5.pth')\n",
    "img_output = []\n",
    "img_label = []\n",
    "\n",
    "with torch.no_grad():\n",
    "    img_model.eval()\n",
    "    for data in seq_train_loader:\n",
    "        input, label = data\n",
    "        input, label = input.to(device), label.to(device)\n",
    "        single_output = []\n",
    "        output = []\n",
    "\n",
    "        for t in range(20):\n",
    "            single_output.append(img_model(input[:, t, :, :, :]))\n",
    "        single_output = torch.stack(single_output)\n",
    "        single_output = torch.squeeze(single_output, dim=1)\n",
    "        mean_img_output = torch.mean(single_output, dim=0, keepdim=True)\n",
    "\n",
    "        for t in range(20):\n",
    "            output = img_model(input[:, t, :, :, :])\n",
    "            output += mean_img_output\n",
    "            \n",
    "            # output = torch.cat((output, mean_img_output), dim=1)\n",
    "            # output = torch.sigmoid(output)\n",
    "            img_output.append(output)\n",
    "            img_label.append(label)\n",
    "print(len(img_output))"
   ]
  },
  {
   "cell_type": "code",
   "execution_count": 10,
   "metadata": {},
   "outputs": [
    {
     "name": "stdout",
     "output_type": "stream",
     "text": [
      "Accuracy of SVM classifier on train dataset: 1.0000\n"
     ]
    }
   ],
   "source": [
    "from sklearn import svm\n",
    "from sklearn.metrics import accuracy_score\n",
    "\n",
    "img_output_tensor = torch.stack(img_output)\n",
    "img_label_tensor = torch.cat(img_label)\n",
    "\n",
    "img_output_flattened = img_output_tensor.view(img_output_tensor.size(0), -1).cpu().numpy()\n",
    "img_label_flattened = img_label_tensor.cpu().numpy()\n",
    "\n",
    "svm_classifier = svm.SVC(kernel='linear')\n",
    "\n",
    "# # 使用径向基函数核（RBF kernel）并设置惩罚参数C和gamma\n",
    "# svm_classifier = svm.SVC(kernel='rbf', C=0.9, gamma='scale')\n",
    "\n",
    "# 使用多项式核函数并设置阶数和惩罚参数C\n",
    "# svm_classifier = svm.SVC(kernel='poly', degree=3, C=0.1)\n",
    "\n",
    "# 使用Sigmoid核函数并设置coef0和惩罚参数C\n",
    "# svm_classifier = svm.SVC(kernel='sigmoid', coef0=0.0, C=0.9)\n",
    "\n",
    "svm_classifier.fit(img_output_flattened, img_label_flattened)\n",
    "\n",
    "y_pred = svm_classifier.predict(img_output_flattened)\n",
    "\n",
    "accuracy = accuracy_score(img_label_flattened, y_pred)\n",
    "print(f\"Accuracy of SVM classifier on train dataset: {accuracy:.4f}\")"
   ]
  },
  {
   "cell_type": "code",
   "execution_count": 11,
   "metadata": {},
   "outputs": [
    {
     "data": {
      "text/plain": [
       "['./model/UADFV/svm/cnn_eye_1_l.pkl']"
      ]
     },
     "execution_count": 11,
     "metadata": {},
     "output_type": "execute_result"
    }
   ],
   "source": [
    "import joblib\n",
    "# 保存训练好的 SVM 模型到文件\n",
    "model_filename = './model/UADFV/svm/cnn_eye_1_l.pkl'\n",
    "joblib.dump(svm_classifier, model_filename)"
   ]
  },
  {
   "cell_type": "code",
   "execution_count": 12,
   "metadata": {},
   "outputs": [
    {
     "name": "stdout",
     "output_type": "stream",
     "text": [
      "380\n"
     ]
    }
   ],
   "source": [
    "# SVM：序列对图片的提升（伪）\n",
    "# img_model = torch.load('./model/DeepfakeTIMIT/HQ/cnn_eye_model_5.pth')\n",
    "img_output = []\n",
    "img_label = []\n",
    "\n",
    "with torch.no_grad():\n",
    "    img_model.eval()\n",
    "    for data in seq_test_loader:\n",
    "        input, label = data\n",
    "        input, label = input.to(device), label.to(device)\n",
    "        single_output = []\n",
    "        output = []\n",
    "\n",
    "        for t in range(20):\n",
    "            single_output.append(img_model(input[:, t, :, :, :]))\n",
    "        single_output = torch.stack(single_output)\n",
    "        single_output = torch.squeeze(single_output, dim=1)\n",
    "        mean_img_output = torch.mean(single_output, dim=0, keepdim=True)\n",
    "\n",
    "        for t in range(20):\n",
    "            output = img_model(input[:, t, :, :, :])\n",
    "            output += mean_img_output\n",
    "            \n",
    "            # output = torch.cat((output, mean_img_output), dim=1)\n",
    "            # output = torch.sigmoid(output)\n",
    "            img_output.append(output)\n",
    "            img_label.append(label)\n",
    "print(len(img_output))"
   ]
  },
  {
   "cell_type": "code",
   "execution_count": 13,
   "metadata": {},
   "outputs": [
    {
     "name": "stdout",
     "output_type": "stream",
     "text": [
      "380\n",
      "Accuracy of SVM classifier on test dataset: 1.0000\n"
     ]
    }
   ],
   "source": [
    "# 加载保存的 SVM 模型\n",
    "# model_filename = './model/UADFV/svm/cnn_eye_2_l.pkl'\n",
    "loaded_model = joblib.load(model_filename)\n",
    "\n",
    "img_output_tensor = torch.stack(img_output)\n",
    "img_label_tensor = torch.cat(img_label)\n",
    "print(len(img_label_tensor))\n",
    "\n",
    "img_output_flattened = img_output_tensor.view(img_output_tensor.size(0), -1).cpu().numpy()\n",
    "img_label_flattened = img_label_tensor.cpu().numpy()\n",
    "\n",
    "y_pred = loaded_model.predict(img_output_flattened)\n",
    "\n",
    "accuracy = accuracy_score(img_label_flattened, y_pred)\n",
    "print(f\"Accuracy of SVM classifier on test dataset: {accuracy:.4f}\")"
   ]
  }
 ],
 "metadata": {
  "kernelspec": {
   "display_name": "base",
   "language": "python",
   "name": "python3"
  },
  "language_info": {
   "codemirror_mode": {
    "name": "ipython",
    "version": 3
   },
   "file_extension": ".py",
   "mimetype": "text/x-python",
   "name": "python",
   "nbconvert_exporter": "python",
   "pygments_lexer": "ipython3",
   "version": "3.11.5"
  }
 },
 "nbformat": 4,
 "nbformat_minor": 2
}
