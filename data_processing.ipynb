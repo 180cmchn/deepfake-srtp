{
 "cells": [
  {
   "cell_type": "code",
   "metadata": {
    "ExecuteTime": {
     "end_time": "2025-03-15T09:11:34.327670Z",
     "start_time": "2025-03-15T09:11:23.372523Z"
    }
   },
   "source": [
    "# 视频帧提取，输出whole picture\n",
    "import cv2\n",
    "import os\n",
    "from tqdm import tqdm\n",
    "\n",
    "def frame_extractor(input_vid_path, out_dir, order):\n",
    "    vidcap = cv2.VideoCapture(input_vid_path)\n",
    "    if vidcap.isOpened():\n",
    "        pass\n",
    "    else:\n",
    "        print(\"File not found.\")\n",
    "        quit()\n",
    "    \n",
    "    # frame_num = int(vidcap.get(cv2.CAP_PROP_FRAME_COUNT))\n",
    "    # 每个视频提取20帧\n",
    "    req_frames = list(range(0, 80, 4))\n",
    "    \n",
    "    for i in range(len(req_frames)):\n",
    "        vidcap.set(cv2.CAP_PROP_POS_FRAMES,req_frames[i])\n",
    "        success, frame = vidcap.read()\n",
    "        if success:\n",
    "            filename = f\"{order}_{i}.png\"\n",
    "            filepath = os.path.join(out_dir, filename)\n",
    "            cv2.imwrite(filepath, frame)\n",
    "        else:\n",
    "            break\n",
    "\n",
    "    vidcap.release()\n",
    "\n",
    "files = os.listdir(\"D:/15341/Desktop/datasets_cite/UADFV/fake_videos/fake\")\n",
    "out_dir = \"D:/15341/Desktop/datasets_cite/UADFV/whole picture/fake\"\n",
    "os.makedirs(out_dir, exist_ok=True)\n",
    "for i, file in enumerate(tqdm(files, desc=\"total\")):\n",
    "    frame_extractor(f\"D:/15341/Desktop/datasets_cite/UADFV/fake_videos/fake/{file}\", out_dir, i)"
   ],
   "outputs": [
    {
     "name": "stderr",
     "output_type": "stream",
     "text": [
      "total: 100%|██████████| 49/49 [00:10<00:00,  4.48it/s]\n"
     ]
    }
   ],
   "execution_count": 8
  },
  {
   "cell_type": "code",
   "metadata": {
    "ExecuteTime": {
     "end_time": "2025-03-15T07:30:42.513240Z",
     "start_time": "2025-03-15T07:30:40.099205Z"
    }
   },
   "source": [
    "# DeepfakeTIMIT-real\n",
    "import os\n",
    "import shutil\n",
    "\n",
    "out_dir = \"D:/15341/Desktop/datasets_cite/DeepfakeTIMIT/whole picture/real\"\n",
    "os.makedirs(out_dir, exist_ok=True)\n",
    "\n",
    "input_dir = \"D:/15341/Desktop/datasets_cite/DeepfakeTIMIT/exact\"\n",
    "\n",
    "order = [\"001\", \"005\", \"010\", \"015\", \"020\", \"025\", \"030\", \"035\", \"040\", \"045\"]\n",
    "\n",
    "img_count = 0\n",
    "for file in os.listdir(input_dir):\n",
    "    for i in os.listdir(f\"{input_dir}/{file}/video\"):\n",
    "        if i == \"head\" or i == \"head2\" or i == \"head3\":\n",
    "            continue\n",
    "        for ord, j in enumerate(order):\n",
    "            shutil.copy(f\"{input_dir}/{file}/video/{i}/{j}\",f\"{out_dir}/{img_count}_{ord}\")\n",
    "        img_count += 1\n",
    "\n",
    "for file in os.listdir(out_dir):\n",
    "    os.rename(f\"{out_dir}/{file}\",f\"{out_dir}/{file}.png\")"
   ],
   "outputs": [],
   "execution_count": 3
  },
  {
   "cell_type": "code",
   "metadata": {
    "ExecuteTime": {
     "end_time": "2025-03-15T07:35:31.694031Z",
     "start_time": "2025-03-15T07:35:01.311946Z"
    }
   },
   "source": [
    "# 提取伪造视频中的帧，输出为图片\n",
    "import cv2\n",
    "import os\n",
    "\n",
    "def frame_extractor(input_dir, out_dir, file, video, order):\n",
    "    vid = cv2.VideoCapture(f\"{input_dir}/{file}/{video}\")\n",
    "    if vid.isOpened():\n",
    "        pass\n",
    "    else:\n",
    "        print(\"File not found.\")\n",
    "        quit()\n",
    "\n",
    "    req_frames = list(range(0, 50, 5))\n",
    "\n",
    "    for i in range(len(req_frames)):\n",
    "        vid.set(cv2.CAP_PROP_POS_FRAMES,req_frames[i])\n",
    "        ret,frame = vid.read()\n",
    "        video = video.split(\"-\")[0]\n",
    "        cv2.imwrite(f\"{out_dir}/{order}_{i}.png\",frame)\n",
    "\n",
    "input_dir = \"D:/15341/Desktop/datasets_cite/DeepfakeTIMIT/lower_quality\"\n",
    "out_dir = \"D:/15341/Desktop/datasets_cite/DeepfakeTIMIT/whole picture/fake/LQ\"\n",
    "os.makedirs(out_dir, exist_ok=True)\n",
    "\n",
    "img_count = 0\n",
    "for file in os.listdir(input_dir):\n",
    "    if file == \".dircksum\":\n",
    "        continue\n",
    "    else:\n",
    "        for i in os.listdir(f\"{input_dir}/{file}\"):\n",
    "            if i.split(\".\")[-1] == \"avi\":\n",
    "                frame_extractor(input_dir, out_dir, file, i, img_count)\n",
    "                img_count += 1"
   ],
   "outputs": [],
   "execution_count": 4
  },
  {
   "cell_type": "code",
   "metadata": {
    "ExecuteTime": {
     "end_time": "2025-03-16T14:44:34.941876Z",
     "start_time": "2025-03-16T14:26:48.067311Z"
    }
   },
   "source": [
    "# 提取人脸\n",
    "import dlib\n",
    "import cv2\n",
    "import os\n",
    "from tqdm import tqdm\n",
    "\n",
    "def face_extractor(img_path, output_dir, file_name):\n",
    "    detector = dlib.get_frontal_face_detector()\n",
    "    image = cv2.imread(img_path)\n",
    "\n",
    "    # 将图像转换为灰度\n",
    "    # gray_image = cv2.cvtColor(image, cv2.COLOR_BGR2GRAY)\n",
    "\n",
    "    faces = detector(image)\n",
    "\n",
    "    for face in faces:\n",
    "        x, y, w, h = face.left(), face.top(), face.width(), face.height()\n",
    "        x_hat = int(w / 8)\n",
    "        y_hat = int(h / 5)\n",
    "        \n",
    "        face_image = image[max(0, y-y_hat):min(image.shape[0], (y+h+y_hat)), \n",
    "                           max(0, x-x_hat):min(image.shape[1], (x+w+x_hat))]\n",
    "\n",
    "        resized_image = cv2.resize(face_image, (224, 224))\n",
    "\n",
    "        filepath = os.path.join(output_dir, file_name)\n",
    "        cv2.imwrite(filepath, resized_image)\n",
    "\n",
    "files = os.listdir(\"D:/15341/Desktop/datasets_cite/DeepfakeTIMIT/whole picture/fake/LQ\")\n",
    "out_dir = \"D:/15341/Desktop/datasets_cite/DeepfakeTIMIT/face/fake\"\n",
    "os.makedirs(out_dir, exist_ok=True)\n",
    "for file in tqdm(files, desc=\"total\"):\n",
    "    face_extractor(f\"D:/15341/Desktop/datasets_cite/DeepfakeTIMIT/whole picture/fake/LQ/{file}\", out_dir, file)\n",
    "\n",
    "# files = os.listdir(\"D:/15341/Desktop/datasets_cite/DeepfakeTIMIT/whole picture/real\")\n",
    "# out_dir = \"D:/15341/Desktop/datasets_cite/DeepfakeTIMIT/face/real\"\n",
    "# os.makedirs(out_dir, exist_ok=True)\n",
    "# for file in tqdm(files, desc=\"total\"):\n",
    "#     face_extractor(f\"D:/15341/Desktop/datasets_cite/DeepfakeTIMIT/whole picture/real/{file}\", out_dir, file)"
   ],
   "outputs": [
    {
     "name": "stderr",
     "output_type": "stream",
     "text": [
      "total: 100%|██████████| 3200/3200 [17:46<00:00,  3.00it/s]\n"
     ]
    }
   ],
   "execution_count": 1
  },
  {
   "cell_type": "code",
   "metadata": {
    "ExecuteTime": {
     "end_time": "2025-03-16T15:33:33.488741Z",
     "start_time": "2025-03-16T15:33:33.462807Z"
    }
   },
   "source": [
    "# 处理在截取人脸或眼睛区域时数据缺失的情况\n",
    "import os\n",
    "\n",
    "# 加载数据\n",
    "data_dir = 'D:/15341/Desktop/datasets_cite/DeepfakeTIMIT/face/real'\n",
    "idx = 1\n",
    "\n",
    "# for class_name in ['real', 'fake']:\n",
    "#     label_dir = os.path.join(data_dir, class_name)\n",
    "\n",
    "for sequence_idx in range(320):\n",
    "    # if sequence_idx == 33 or sequence_idx == 43:\n",
    "    #     continue\n",
    "    \n",
    "    for image_idx in range(10):\n",
    "        image_path = os.path.join(data_dir, f'{sequence_idx}_{image_idx}.png')\n",
    "        if not os.path.exists(image_path):\n",
    "            print(f\"{idx}:file does not exist:{image_path}\")\n",
    "            idx += 1\n",
    "# 25 88 167 195"
   ],
   "outputs": [],
   "execution_count": 9
  },
  {
   "cell_type": "code",
   "execution_count": 3,
   "metadata": {},
   "outputs": [
    {
     "name": "stderr",
     "output_type": "stream",
     "text": [
      "total: 100%|██████████| 3200/3200 [44:24<00:00,  1.20it/s]\n"
     ]
    }
   ],
   "source": [
    "\"\"\"\n",
    "In Ictu Oculi: Exposing AI Created Fake Videos by Detecting Eye Blinking\n",
    "IEEE International Workshop on Information Forensics and Security (WIFS), 2018\n",
    "Yuezun Li, Ming-ching Chang and Siwei Lyu\n",
    "\"\"\"\n",
    "\n",
    "import cv2\n",
    "import numpy as np\n",
    "import dlib\n",
    "from tqdm import tqdm\n",
    "from PIL import Image\n",
    "import os\n",
    "\n",
    "def shape_to_np(shape, dtype=\"int\"):\n",
    "    # initialize the list of (x, y)-coordinates\n",
    "    coords = np.zeros((68, 2), dtype=dtype)\n",
    "\n",
    "    # loop over the 68 facial landmarks and convert them\n",
    "    # to a 2-tuple of (x, y)-coordinates\n",
    "    for i in range(0, 68):\n",
    "        coords[i] = (shape.part(i).x, shape.part(i).y)\n",
    "\n",
    "    return coords\n",
    "\n",
    "def crop_left_eye(img_path, out_dir, file_name):\n",
    "\n",
    "    filepath = os.path.join(out_dir, file_name)\n",
    "    if os.path.exists(filepath):\n",
    "        return \n",
    "\n",
    "    front_face_detector = dlib.get_frontal_face_detector()\n",
    "    lmark_predictor = dlib.shape_predictor('./dlib_model/shape_predictor_68_face_landmarks.dat')\n",
    "\n",
    "    image = cv2.imread(img_path)\n",
    "    image = np.uint8(image)\n",
    "    faces = front_face_detector(image)\n",
    "\n",
    "    points = None\n",
    "\n",
    "    if faces is not None or len(faces) > 0:\n",
    "        for pred in faces:\n",
    "            points = np.array([[p.x, p.y] for p in lmark_predictor(image, pred).parts()])\n",
    "            # points = shape_to_np(lmark_predictor(image, pred))\n",
    "    else:\n",
    "        raise ValueError('None face or multiple faces')\n",
    "    \n",
    "    try:\n",
    "        left_eye = points[36:42, :]\n",
    "    except Exception as e:\n",
    "        return \n",
    "    \n",
    "    lp = np.min(left_eye[:, 0])\n",
    "    rp = np.max(left_eye[:, 0])\n",
    "    tp = np.min(left_eye[:, -1])\n",
    "    bp = np.max(left_eye[:, -1])\n",
    "\n",
    "    w = rp - lp\n",
    "    h = bp - tp\n",
    "\n",
    "    lp_ = int(np.maximum(0, lp - 0.25 * w))\n",
    "    rp_ = int(np.minimum(image.shape[1], rp + 0.25 * w))\n",
    "    tp_ = int(np.maximum(0, tp - 1.75 * h))\n",
    "    bp_ = int(np.minimum(image.shape[0], bp + 1.75 * h))\n",
    "\n",
    "    eye_img = image[tp_:bp_, lp_:rp_, :]\n",
    "\n",
    "\n",
    "    size = [128, 128]\n",
    "\n",
    "    eye_img = cv2.resize(eye_img, tuple(size))\n",
    "    eye_img = Image.fromarray(eye_img)\n",
    "    eye_img.save(filepath)\n",
    "\n",
    "# files = os.listdir(\"./dataset/UADFV/whole picture/real\")\n",
    "# out_dir = \"./dataset/UADFV/eye/real\"\n",
    "# os.makedirs(out_dir, exist_ok=True)\n",
    "# for file in tqdm(files, desc=\"total\"):\n",
    "#     crop_left_eye(f\"./dataset/UADFV/whole picture/real/{file}\", out_dir, file)\n",
    "\n",
    "files = os.listdir(\"./dataset/DeepfakeTIMIT/whole picture/real\")\n",
    "out_dir = \"./dataset/DeepfakeTIMIT/eye/real\"\n",
    "os.makedirs(out_dir, exist_ok=True)\n",
    "for file in tqdm(files, desc=\"total\"):\n",
    "    crop_left_eye(f\"./dataset/DeepfakeTIMIT/whole picture/real/{file}\", out_dir, file)\n"
   ]
  },
  {
   "cell_type": "code",
   "execution_count": 6,
   "metadata": {},
   "outputs": [
    {
     "data": {
      "text/plain": [
       "True"
      ]
     },
     "execution_count": 6,
     "metadata": {},
     "output_type": "execute_result"
    }
   ],
   "source": [
    "import dlib\n",
    "import cv2\n",
    "import numpy as np\n",
    "\n",
    "detector = dlib.get_frontal_face_detector()\n",
    "predictor = dlib.shape_predictor('./dlib_model/shape_predictor_68_face_landmarks.dat')\n",
    "\n",
    "# 读取图像\n",
    "image = cv2.imread(\"./dataset/DeepfakeTIMIT/whole picture/real/0_0.png\")\n",
    "gray = cv2.cvtColor(image, cv2.COLOR_BGR2GRAY)\n",
    "\n",
    "white_image = np.ones((384, 512, 3), dtype=np.uint8) * 255\n",
    "\n",
    "# 检测人脸\n",
    "faces = detector(gray)\n",
    "\n",
    "# 遍历每张检测到的人脸\n",
    "for face in faces:\n",
    "    # 检测关键点\n",
    "    landmarks = predictor(gray, face)\n",
    "\n",
    "    # 遍历关键点并在图像上绘制\n",
    "    for n in range(0, 68):\n",
    "        x = landmarks.part(n).x\n",
    "        y = landmarks.part(n).y\n",
    "        cv2.circle(white_image, (x, y), 1, (255, 0, 0), -1)  # 在关键点处绘制小圆点\n",
    "\n",
    "# 显示或保存输出图像\n",
    "cv2.imshow(\"Facial Landmarks\", white_image)\n",
    "cv2.waitKey(0)\n",
    "cv2.destroyAllWindows()\n",
    "cv2.imwrite(\"1.png\", white_image)"
   ]
  }
 ],
 "metadata": {
  "kernelspec": {
   "display_name": "base",
   "language": "python",
   "name": "python3"
  },
  "language_info": {
   "codemirror_mode": {
    "name": "ipython",
    "version": 3
   },
   "file_extension": ".py",
   "mimetype": "text/x-python",
   "name": "python",
   "nbconvert_exporter": "python",
   "pygments_lexer": "ipython3",
   "version": "3.11.5"
  }
 },
 "nbformat": 4,
 "nbformat_minor": 2
}
