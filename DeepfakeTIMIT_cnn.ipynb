{
 "cells": [
  {
   "cell_type": "code",
   "metadata": {
    "ExecuteTime": {
     "end_time": "2025-04-10T12:22:09.022519Z",
     "start_time": "2025-04-10T12:21:52.426097Z"
    }
   },
   "source": [
    "# 序列数据、标签的加载\n",
    "import os\n",
    "from PIL import Image\n",
    "import torch\n",
    "from torchvision import transforms\n",
    "\n",
    "if torch.cuda.is_available():\n",
    "    device = torch.device('cuda')\n",
    "else:\n",
    "    device = torch.device('cpu')\n",
    "\n",
    "torch.manual_seed(4)\n",
    "\n",
    "# 若需更换face和eye，需改图片size\n",
    "transform = transforms.Compose([\n",
    "    transforms.Resize((224, 224)),\n",
    "    transforms.ToTensor(),\n",
    "    transforms.Normalize(mean=[0.485, 0.456, 0.406], std=[0.229, 0.224, 0.225])\n",
    "])\n",
    "\n",
    "data_dir = 'D:/15341/Desktop/datasets_cite/DeepfakeTIMIT/face'\n",
    "\n",
    "sequences = []\n",
    "labels = []\n",
    "\n",
    "for label, class_name in enumerate(['real', 'fake']):\n",
    "    label_dir = os.path.join(data_dir, class_name)\n",
    "\n",
    "    for sequence_idx in range(320):\n",
    "        if sequence_idx == 25 or sequence_idx == 88 or sequence_idx == 167 or sequence_idx == 195:\n",
    "            continue\n",
    "\n",
    "        sequence = []\n",
    "        for image_idx in range(10):\n",
    "            image_path = os.path.join(label_dir, f'{sequence_idx}_{image_idx}.png')\n",
    "            image = Image.open(image_path).convert(\"RGB\")\n",
    "            if transform:\n",
    "                image = transform(image)\n",
    "            sequence.append(image)\n",
    "\n",
    "        sequences.append(torch.stack(sequence))\n",
    "        labels.append(label)\n",
    "\n",
    "sequences = torch.stack(sequences)\n",
    "labels = torch.tensor(labels)\n",
    "print(sequences.shape)\n",
    "print(labels.shape)"
   ],
   "outputs": [
    {
     "name": "stdout",
     "output_type": "stream",
     "text": [
      "torch.Size([632, 10, 3, 224, 224])\n",
      "torch.Size([632])\n"
     ]
    }
   ],
   "execution_count": 1
  },
  {
   "cell_type": "code",
   "metadata": {
    "ExecuteTime": {
     "end_time": "2025-04-10T12:22:42.082117Z",
     "start_time": "2025-04-10T12:22:33.468127Z"
    }
   },
   "source": [
    "# DeepfakeTIMIT sequence\n",
    "from torch.utils.data import DataLoader, SubsetRandomSampler, TensorDataset\n",
    "import numpy as np\n",
    "\n",
    "dataset_size = sequences.size(0)\n",
    "indices = list(range(dataset_size))\n",
    "np.random.seed(4) # change\n",
    "np.random.shuffle(indices)\n",
    "print(indices[:10])\n",
    "\n",
    "sequences = sequences[indices]\n",
    "labels = labels[indices]\n",
    "\n",
    "split1 = int(np.floor(0.8 * dataset_size))\n",
    "split2 = int(np.floor(0.9 * dataset_size))\n",
    "train_indices, val_indices, test_indices = indices[:split1], indices[split1:split2], indices[split2:]\n",
    "\n",
    "# split = int(np.floor(0.8 * dataset_size))\n",
    "# test_size = dataset_size - split\n",
    "# # size = np.ceil(0.5 * test_size).astype(int)\n",
    "# size = int(0.5 * test_size)\n",
    "# m = 3\n",
    "# n = 4\n",
    "# indices_left, test_indices, indices_right = indices[:(test_size * m)], indices[(test_size * m):(test_size * n - size)], indices[(test_size * n):]\n",
    "# indices_left.extend(indices_right)\n",
    "# train_indices = indices_left\n",
    "\n",
    "# train_indices, test_indices = indices[:split], indices[split:]\n",
    "# test_indices, train_indices = indices[:test_size], indices[test_size:]\n",
    "\n",
    "dataset = TensorDataset(sequences, labels)\n",
    "\n",
    "train_sampler = SubsetRandomSampler(train_indices)\n",
    "val_sampler = SubsetRandomSampler(val_indices)\n",
    "test_sampler = SubsetRandomSampler(test_indices)\n",
    "\n",
    "seq_train_loader = DataLoader(dataset, batch_size=1, sampler=train_sampler)\n",
    "seq_val_loader = DataLoader(dataset, batch_size=1, sampler=val_sampler)\n",
    "seq_test_loader = DataLoader(dataset, batch_size=1, sampler=test_sampler)\n",
    "\n",
    "print(\"Training set length:\", len(train_indices))\n",
    "print(\"Validation set length:\", len(val_indices))\n",
    "print(\"Test set length:\", len(test_indices))"
   ],
   "outputs": [
    {
     "name": "stdout",
     "output_type": "stream",
     "text": [
      "[550, 248, 459, 433, 389, 490, 626, 596, 175, 320]\n",
      "Training set length: 505\n",
      "Validation set length: 63\n",
      "Test set length: 64\n"
     ]
    }
   ],
   "execution_count": 2
  },
  {
   "cell_type": "code",
   "metadata": {
    "ExecuteTime": {
     "end_time": "2025-04-10T12:22:55.513317Z",
     "start_time": "2025-04-10T12:22:54.731093Z"
    }
   },
   "source": [
    "# 检查标签是否正常\n",
    "all_labels = []\n",
    "for data in seq_train_loader:\n",
    "    inputs, label = data\n",
    "    all_labels.extend(label.tolist())\n",
    "all_labels = torch.tensor(all_labels)\n",
    "print(\"Total number of labels:\", len(all_labels))\n",
    "num_positive_samples = (all_labels == 1).sum().item()\n",
    "num_negative_samples = (all_labels == 0).sum().item()\n",
    "print(f\"Number of positive samples: {num_positive_samples}\")\n",
    "print(f\"Number of negative samples: {num_negative_samples}\")"
   ],
   "outputs": [
    {
     "name": "stdout",
     "output_type": "stream",
     "text": [
      "Total number of labels: 505\n",
      "Number of positive samples: 247\n",
      "Number of negative samples: 258\n"
     ]
    }
   ],
   "execution_count": 3
  },
  {
   "cell_type": "code",
   "metadata": {
    "ExecuteTime": {
     "end_time": "2025-04-10T12:22:59.416942Z",
     "start_time": "2025-04-10T12:22:58.160920Z"
    }
   },
   "source": [
    "# DeepfakeTIMIT image\n",
    "extend_labels = []\n",
    "images = []\n",
    "\n",
    "for i in range(sequences.size(0)):\n",
    "    for j in range(10):\n",
    "        images.append(sequences[i][j])\n",
    "        extend_labels.append(labels[i])\n",
    "\n",
    "images = torch.stack(images)\n",
    "img_labels = torch.tensor(extend_labels)\n",
    "\n",
    "img_dataset_size = images.size(0)\n",
    "img_indices = list(range(img_dataset_size))\n",
    "\n",
    "img_split1 = 10 * split1\n",
    "img_split2 = 10 * split2\n",
    "img_train_indices, img_val_indices, img_test_indices = img_indices[:img_split1], img_indices[img_split1:img_split2], img_indices[img_split2:]\n",
    "\n",
    "# img_split = 10 * split\n",
    "# img_test_size = img_dataset_size - img_split\n",
    "# size = 10 * size\n",
    "\n",
    "# indices_left, img_test_indices, indices_right = img_indices[:(img_test_size * m)], img_indices[(img_test_size * m):(img_test_size * n - size)], img_indices[(img_test_size * n):]\n",
    "# indices_left.extend(indices_right)\n",
    "# img_train_indices = indices_left\n",
    "\n",
    "# img_train_indices, img_test_indices = img_indices[:img_split], img_indices[img_split:]\n",
    "# img_test_indices, img_train_indices = img_indices[:img_test_size], img_indices[img_test_size:]\n",
    "\n",
    "img_dataset = TensorDataset(images, img_labels)\n",
    "\n",
    "img_train_sampler = SubsetRandomSampler(img_train_indices)\n",
    "img_val_sampler = SubsetRandomSampler(img_val_indices)\n",
    "img_test_sampler = SubsetRandomSampler(img_test_indices)\n",
    "\n",
    "img_train_loader = DataLoader(img_dataset, batch_size=32, sampler=img_train_sampler)\n",
    "img_val_loader = DataLoader(img_dataset, batch_size=32, sampler=img_val_sampler)\n",
    "img_test_loader = DataLoader(img_dataset, batch_size=32, sampler=img_test_sampler)\n",
    "\n",
    "print(\"Training set length:\", len(img_train_indices))\n",
    "print(\"Validation set length:\", len(img_val_indices))\n",
    "print(\"Test set length:\", len(img_test_indices))"
   ],
   "outputs": [
    {
     "name": "stdout",
     "output_type": "stream",
     "text": [
      "Training set length: 5050\n",
      "Validation set length: 630\n",
      "Test set length: 640\n"
     ]
    }
   ],
   "execution_count": 4
  },
  {
   "cell_type": "code",
   "metadata": {
    "ExecuteTime": {
     "end_time": "2025-04-10T12:23:05.951432Z",
     "start_time": "2025-04-10T12:23:04.383706Z"
    }
   },
   "source": [
    "from models import CustomVGG\n",
    "\n",
    "img_model = CustomVGG().to(device)"
   ],
   "outputs": [],
   "execution_count": 5
  },
  {
   "cell_type": "code",
   "metadata": {
    "ExecuteTime": {
     "end_time": "2025-04-10T12:27:06.508239Z",
     "start_time": "2025-04-10T12:23:07.032960Z"
    }
   },
   "source": [
    "import torch.nn as nn\n",
    "import torch.optim as optim\n",
    "\n",
    "\n",
    "criterion = nn.CrossEntropyLoss()\n",
    "optimizer = optim.Adam(img_model.parameters(), lr=0.001)\n",
    "# optimizer = optim.SGD(img_model.parameters(), lr=0.01, momentum=0.9)\n",
    "# torch.nn.utils.clip_grad_norm_(model.parameters(), 1.0)  # 设置 clipnorm\n",
    "# torch.nn.utils.clip_grad_value_(model.parameters(), 0.5)  # 设置 clipvalue\n",
    "\n",
    "best_val_loss = float('inf')\n",
    "patience = 10\n",
    "counter = 0\n",
    "\n",
    "# 训练\n",
    "num_epochs = 10\n",
    "for epoch in range(num_epochs):\n",
    "    running_loss = 0.0\n",
    "    correct = 0\n",
    "    total = 0\n",
    "    for inputs, labels in img_train_loader:\n",
    "        inputs, labels = inputs.to(device), labels.to(device)\n",
    "\n",
    "        img_model.train()\n",
    "\n",
    "        optimizer.zero_grad()\n",
    "\n",
    "        # 前向传播\n",
    "        outputs = img_model(inputs)\n",
    "        loss = criterion(outputs, labels)\n",
    "\n",
    "        # 反向传播和优化\n",
    "        loss.backward()\n",
    "        optimizer.step()\n",
    "\n",
    "        running_loss += loss.item()\n",
    "        _, predicted = torch.max(outputs.data, 1)\n",
    "        total += labels.size(0)\n",
    "        correct += (predicted == labels).sum().item()\n",
    "\n",
    "    loss = running_loss / len(img_train_loader)\n",
    "    accuracy = 100 * correct / total\n",
    "    # print('Epoch %d, loss: %.3f, accuracy: %.2f %%' % (epoch + 1, loss, accuracy))\n",
    "    \n",
    "    # 模型评估\n",
    "    img_model.eval()  # 将模型设置为评估模式，关闭 Dropout\n",
    "    val_correct = 0\n",
    "    val_total = 0\n",
    "    val_running_loss = 0.0\n",
    "    all_labels = []\n",
    "    all_predictions = []\n",
    "    with torch.no_grad():  # 在验证阶段不需要计算梯度\n",
    "        for val_data in img_val_loader:\n",
    "            val_inputs, val_labels = val_data\n",
    "            val_inputs, val_labels = val_inputs.to(device), val_labels.to(device)\n",
    "\n",
    "            val_outputs = img_model(val_inputs)\n",
    "            val_loss = criterion(val_outputs, val_labels)\n",
    "            val_running_loss += val_loss.item()\n",
    "\n",
    "            _, val_predicted = torch.max(val_outputs.data, 1)\n",
    "            val_total += val_labels.size(0)\n",
    "            val_correct += (val_predicted == val_labels).sum().item()\n",
    "\n",
    "    # 计算验证集上的准确率\n",
    "    val_accuracy = 100 * val_correct / val_total\n",
    "    avg_val_loss = val_running_loss / len(img_val_loader)\n",
    "\n",
    "    print('Epoch %d, loss: %.3f, accuracy: %.2f %%. Validation, loss: %.3f, accuracy: %.2f %%' %\n",
    "            (epoch + 1, loss, accuracy, avg_val_loss, val_accuracy))\n",
    "    \n",
    "    if epoch == 0:\n",
    "        best_val_accuracy = val_accuracy\n",
    "    # 保存最佳模型\n",
    "    if val_accuracy >= best_val_accuracy:\n",
    "        best_val_accuracy = val_accuracy\n",
    "        best_model_weights = img_model.state_dict()\n",
    "\n",
    "    if avg_val_loss < best_val_loss:\n",
    "        best_val_loss = avg_val_loss\n",
    "        counter = 0\n",
    "    else:\n",
    "        counter += 1\n",
    "        if counter >= patience:\n",
    "            print(\"Early stopping\")\n",
    "            break"
   ],
   "outputs": [
    {
     "name": "stdout",
     "output_type": "stream",
     "text": [
      "Epoch 1, loss: 0.107, accuracy: 96.36 %. Validation, loss: 0.028, accuracy: 98.89 %\n",
      "Epoch 2, loss: 0.014, accuracy: 99.76 %. Validation, loss: 0.025, accuracy: 99.21 %\n",
      "Epoch 3, loss: 0.010, accuracy: 99.80 %. Validation, loss: 0.030, accuracy: 98.73 %\n",
      "Epoch 4, loss: 0.012, accuracy: 99.62 %. Validation, loss: 0.022, accuracy: 99.21 %\n",
      "Epoch 5, loss: 0.010, accuracy: 99.78 %. Validation, loss: 0.021, accuracy: 99.37 %\n",
      "Epoch 6, loss: 0.007, accuracy: 99.82 %. Validation, loss: 0.012, accuracy: 99.52 %\n",
      "Epoch 7, loss: 0.009, accuracy: 99.74 %. Validation, loss: 0.011, accuracy: 99.84 %\n",
      "Epoch 8, loss: 0.011, accuracy: 99.68 %. Validation, loss: 0.006, accuracy: 99.84 %\n",
      "Epoch 9, loss: 0.006, accuracy: 99.88 %. Validation, loss: 0.012, accuracy: 99.68 %\n",
      "Epoch 10, loss: 0.008, accuracy: 99.80 %. Validation, loss: 0.051, accuracy: 98.57 %\n"
     ]
    }
   ],
   "execution_count": 6
  },
  {
   "cell_type": "code",
   "metadata": {
    "ExecuteTime": {
     "end_time": "2025-04-10T12:41:22.147556Z",
     "start_time": "2025-04-10T12:41:22.008526Z"
    }
   },
   "source": "torch.save(img_model, 'D:/15341/Desktop/model/DeepfakeTIMIT/LQ/cnn_face_model(3).pth')",
   "outputs": [],
   "execution_count": 7
  },
  {
   "cell_type": "code",
   "metadata": {
    "ExecuteTime": {
     "end_time": "2025-04-10T12:41:28.263569Z",
     "start_time": "2025-04-10T12:41:24.313931Z"
    }
   },
   "source": [
    "from sklearn.metrics import roc_auc_score\n",
    "\n",
    "# img_model = torch.load('D:/15341/Desktop/model/DeepfakeTIMIT/LQ/cnn_face_model(2).pth')\n",
    "correct = 0\n",
    "total = 0\n",
    "all_labels = []\n",
    "all_predictions = []\n",
    "\n",
    "with torch.no_grad():\n",
    "    img_model.eval()\n",
    "    for inputs, label in img_test_loader:\n",
    "        inputs, label = inputs.to(device), label.to(device)\n",
    "        outputs = img_model(inputs)\n",
    "        \n",
    "        _, predicted = torch.max(outputs, 1)\n",
    "        total += label.size(0)\n",
    "        correct += (predicted == label).sum().item()\n",
    "\n",
    "        predictions = torch.sigmoid(outputs[:, 1])\n",
    "        all_labels.extend(label.cpu().numpy())\n",
    "        all_predictions.extend(predictions.cpu().detach().numpy())\n",
    "\n",
    "test_accuracy = 100 * correct / total\n",
    "auc = roc_auc_score(all_labels, all_predictions)\n",
    "print(\"Test Accuracy: %.2f %%, AUC: %.4f\" % (test_accuracy, auc))"
   ],
   "outputs": [
    {
     "name": "stdout",
     "output_type": "stream",
     "text": [
      "Test Accuracy: 99.69 %, AUC: 1.0000\n"
     ]
    }
   ],
   "execution_count": 8
  },
  {
   "cell_type": "code",
   "metadata": {
    "ExecuteTime": {
     "end_time": "2025-04-10T12:48:27.041457Z",
     "start_time": "2025-04-10T12:48:21.002819Z"
    }
   },
   "source": [
    "# 序列对图片的提升（序列整体平均）\n",
    "# img_model = torch.load('D:/15341/Desktop/model/DeepfakeTIMIT/LQ/cnn_face_model(2).pth')\n",
    "correct = 0\n",
    "\n",
    "with torch.no_grad():\n",
    "    img_model.eval()\n",
    "    for data in seq_val_loader:\n",
    "        input, label = data\n",
    "        input, label = input.to(device), label.to(device)\n",
    "        img_output = []\n",
    "        output = []\n",
    "\n",
    "        for t in range(10):\n",
    "            img_output.append(img_model(input[:, t, :, :, :]))\n",
    "        img_output = torch.stack(img_output)\n",
    "        img_output = torch.squeeze(img_output, dim=1)\n",
    "        mean_img_output = torch.mean(img_output, dim=0, keepdim=True)\n",
    "\n",
    "        for t in range(10):\n",
    "            output = img_model(input[:, t, :, :, :])\n",
    "            output += mean_img_output\n",
    "\n",
    "            _, predicted = torch.max(output, 1)\n",
    "            correct += (predicted == label).sum().item()\n",
    "\n",
    "total = 10 * len(seq_val_loader)\n",
    "print(total)\n",
    "test_accuracy = 100 * correct / total\n",
    "print(\"Test Accuracy: %.2f %%\" % test_accuracy)"
   ],
   "outputs": [
    {
     "name": "stdout",
     "output_type": "stream",
     "text": [
      "630\n",
      "Test Accuracy: 100.00 %\n"
     ]
    }
   ],
   "execution_count": 9
  },
  {
   "cell_type": "code",
   "metadata": {
    "ExecuteTime": {
     "end_time": "2025-04-10T12:50:10.300099Z",
     "start_time": "2025-04-10T12:50:10.014238Z"
    }
   },
   "source": [
    "# img_model = torch.load('./model/DeepfakeTIMIT/HQ/cnn_eye_model_5.pth')\n",
    "output = []\n",
    "with torch.no_grad():\n",
    "    img_model.eval()\n",
    "    for i, data in enumerate(seq_test_loader):\n",
    "        input, label = data\n",
    "        input, label = input.to(device), label.to(device)\n",
    "        if i == 0:\n",
    "            output = img_model(input[:, 0, :, :, :])\n",
    "            print(output.shape)"
   ],
   "outputs": [
    {
     "name": "stdout",
     "output_type": "stream",
     "text": [
      "torch.Size([1, 2])\n"
     ]
    }
   ],
   "execution_count": 10
  },
  {
   "cell_type": "code",
   "metadata": {
    "ExecuteTime": {
     "end_time": "2025-04-10T12:50:12.090153Z",
     "start_time": "2025-04-10T12:50:12.086698Z"
    }
   },
   "source": [
    "# 定义两个张量\n",
    "tensor1 = torch.tensor([[1, 2]])\n",
    "tensor2 = torch.tensor([[3, 4]])\n",
    "\n",
    "# 使用torch.cat沿着维度1（列）拼接张量\n",
    "combined_tensor = torch.cat((tensor1, tensor2), dim=1)\n",
    "\n",
    "print(combined_tensor)  # 输出应为：tensor([[1, 2, 3, 4]])"
   ],
   "outputs": [
    {
     "name": "stdout",
     "output_type": "stream",
     "text": [
      "tensor([[1, 2, 3, 4]])\n"
     ]
    }
   ],
   "execution_count": 11
  },
  {
   "cell_type": "code",
   "metadata": {
    "ExecuteTime": {
     "end_time": "2025-04-10T12:50:57.040367Z",
     "start_time": "2025-04-10T12:50:13.481279Z"
    }
   },
   "source": [
    "# SVM：序列对图片的提升（伪）\n",
    "# img_model = torch.load('./model/DeepfakeTIMIT/HQ/cnn_eye_model_5.pth')\n",
    "img_output = []\n",
    "img_label = []\n",
    "\n",
    "with torch.no_grad():\n",
    "    img_model.eval()\n",
    "    for data in seq_train_loader:\n",
    "        input, label = data\n",
    "        input, label = input.to(device), label.to(device)\n",
    "        single_output = []\n",
    "        output = []\n",
    "\n",
    "        for t in range(10):\n",
    "            single_output.append(img_model(input[:, t, :, :, :]))\n",
    "        single_output = torch.stack(single_output)\n",
    "        single_output = torch.squeeze(single_output, dim=1)\n",
    "        mean_img_output = torch.mean(single_output, dim=0, keepdim=True)\n",
    "\n",
    "        for t in range(10):\n",
    "            output = img_model(input[:, t, :, :, :])\n",
    "            output += mean_img_output\n",
    "            \n",
    "            # output = torch.cat((output, mean_img_output), dim=1)\n",
    "            output = torch.sigmoid(output)\n",
    "            img_output.append(output)\n",
    "            img_label.append(label)\n",
    "print(len(img_output))"
   ],
   "outputs": [
    {
     "name": "stdout",
     "output_type": "stream",
     "text": [
      "5050\n"
     ]
    }
   ],
   "execution_count": 12
  },
  {
   "cell_type": "code",
   "metadata": {
    "ExecuteTime": {
     "end_time": "2025-04-10T12:51:45.757035Z",
     "start_time": "2025-04-10T12:51:45.663471Z"
    }
   },
   "source": [
    "from sklearn import svm\n",
    "from sklearn.metrics import accuracy_score\n",
    "\n",
    "img_output_tensor = torch.stack(img_output)\n",
    "img_label_tensor = torch.cat(img_label)\n",
    "\n",
    "img_output_flattened = img_output_tensor.view(img_output_tensor.size(0), -1).cpu().numpy()\n",
    "img_label_flattened = img_label_tensor.cpu().numpy()\n",
    "\n",
    "svm_classifier = svm.SVC(kernel='linear')\n",
    "\n",
    "svm_classifier.fit(img_output_flattened, img_label_flattened)\n",
    "\n",
    "y_pred = svm_classifier.predict(img_output_flattened)\n",
    "\n",
    "accuracy = accuracy_score(img_label_flattened, y_pred)\n",
    "print(f\"Accuracy of SVM classifier on train dataset: {accuracy:.4f}\")"
   ],
   "outputs": [
    {
     "name": "stdout",
     "output_type": "stream",
     "text": [
      "Accuracy of SVM classifier on train dataset: 0.9972\n"
     ]
    }
   ],
   "execution_count": 13
  },
  {
   "cell_type": "code",
   "metadata": {
    "ExecuteTime": {
     "end_time": "2025-04-10T12:51:48.149443Z",
     "start_time": "2025-04-10T12:51:48.140869Z"
    }
   },
   "source": [
    "import joblib\n",
    "# 保存训练好的 SVM 模型到文件\n",
    "model_filename = 'D:/15341/Desktop/model/DeepfakeTIMIT/LQ/svm/cnn_face_new(1).pkl'\n",
    "joblib.dump(svm_classifier, model_filename)"
   ],
   "outputs": [
    {
     "data": {
      "text/plain": [
       "['D:/15341/Desktop/model/DeepfakeTIMIT/LQ/svm/cnn_face_new(1).pkl']"
      ]
     },
     "execution_count": 14,
     "metadata": {},
     "output_type": "execute_result"
    }
   ],
   "execution_count": 14
  },
  {
   "cell_type": "code",
   "metadata": {
    "ExecuteTime": {
     "end_time": "2025-04-10T12:52:13.906002Z",
     "start_time": "2025-04-10T12:52:08.354177Z"
    }
   },
   "source": [
    "# SVM：序列对图片的提升（伪）\n",
    "# img_model = torch.load('./model/DeepfakeTIMIT/HQ/cnn_eye_model_5.pth')\n",
    "img_output = []\n",
    "img_label = []\n",
    "\n",
    "with torch.no_grad():\n",
    "    img_model.eval()\n",
    "    for data in seq_test_loader:\n",
    "        input, label = data\n",
    "        input, label = input.to(device), label.to(device)\n",
    "        single_output = []\n",
    "        output = []\n",
    "\n",
    "        for t in range(10):\n",
    "            single_output.append(img_model(input[:, t, :, :, :]))\n",
    "        single_output = torch.stack(single_output)\n",
    "        single_output = torch.squeeze(single_output, dim=1)\n",
    "        mean_img_output = torch.mean(single_output, dim=0, keepdim=True)\n",
    "\n",
    "        for t in range(10):\n",
    "            output = img_model(input[:, t, :, :, :])\n",
    "            output += mean_img_output\n",
    "            \n",
    "            # output = torch.cat((output, mean_img_output), dim=1)\n",
    "            output = torch.sigmoid(output)\n",
    "            img_output.append(output)\n",
    "            img_label.append(label)\n",
    "print(len(img_output))"
   ],
   "outputs": [
    {
     "name": "stdout",
     "output_type": "stream",
     "text": [
      "640\n"
     ]
    }
   ],
   "execution_count": 15
  }
 ],
 "metadata": {
  "kernelspec": {
   "display_name": "base",
   "language": "python",
   "name": "python3"
  },
  "language_info": {
   "codemirror_mode": {
    "name": "ipython",
    "version": 3
   },
   "file_extension": ".py",
   "mimetype": "text/x-python",
   "name": "python",
   "nbconvert_exporter": "python",
   "pygments_lexer": "ipython3",
   "version": "3.11.5"
  }
 },
 "nbformat": 4,
 "nbformat_minor": 2
}
